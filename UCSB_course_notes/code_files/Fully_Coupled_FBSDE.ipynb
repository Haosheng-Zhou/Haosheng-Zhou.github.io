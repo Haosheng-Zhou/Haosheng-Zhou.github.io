{
 "cells": [
  {
   "cell_type": "markdown",
   "id": "6f2ce38b",
   "metadata": {},
   "source": [
    "# Deep Learning for Fully Coupled FBSDE\n",
    "## Based on \"Three Algorithms for solving high-dimensional fully-coupled FBSDEs through deep learning\" by Shaolin Ji, Shige Peng, Ying Peng et. al."
   ]
  },
  {
   "cell_type": "markdown",
   "id": "fc09afa5",
   "metadata": {},
   "source": [
    "### Algorithm 1 (Algorithm 2 & 3 can use the same framework with slight modifications)"
   ]
  },
  {
   "cell_type": "markdown",
   "id": "72346c56",
   "metadata": {},
   "source": [
    "### Set up parameters"
   ]
  },
  {
   "cell_type": "code",
   "execution_count": 43,
   "id": "44e18af8",
   "metadata": {},
   "outputs": [],
   "source": [
    "x0 = 1.0 # Initial value of X_t\n",
    "T = 1 # Time horizon\n",
    "N = 25 # Number of time points\n",
    "dt = T / N # The length of the smallest time interval\n",
    "M = 256 # Number of samples to calculate loss function (batch size)\n",
    "eta = 0.005 # Learning rate\n",
    "max_step = 2500 # The maximum number of iterations"
   ]
  },
  {
   "cell_type": "markdown",
   "id": "e761afcb",
   "metadata": {},
   "source": [
    "### Import and Build up Brownian Motion sample paths"
   ]
  },
  {
   "cell_type": "code",
   "execution_count": 44,
   "id": "09872484",
   "metadata": {},
   "outputs": [],
   "source": [
    "import numpy as np\n",
    "import matplotlib.pyplot as plt\n",
    "import torch\n",
    "from torch import nn\n",
    "\n",
    "# Create M sample paths of BM, only record Delta B_t, store N increments at each time point for each BM\n",
    "Delta_BM = torch.tensor(np.random.normal(0,np.sqrt(dt),size = (M,N)))"
   ]
  },
  {
   "cell_type": "markdown",
   "id": "8afcb07d",
   "metadata": {},
   "source": [
    "### Build up all coefficients in FBSDE"
   ]
  },
  {
   "cell_type": "markdown",
   "id": "56a06828",
   "metadata": {},
   "source": [
    "Our example is based on section 5.3 in the paper, a fully coupled FBSDE with closed-form solution.\n",
    "\n",
    "$\n",
    "\\begin{cases}\n",
    "dX_t = - \\frac{1}{2}\\sin(t+X_t)\\cdot\\cos(t+X_t)\\cdot(Y_t^2+Z_t)\\,dt + \\frac{1}{2} \\cos(t+X_t)\\cdot[Y_t\\sin(t+X_t)+Z_t+1]\\,dB_t\\\\\n",
    "X_0 = 1\\\\\n",
    "dY_t = -[Y_tZ_t-\\cos(t+X_t)]\\,dt + Z_t\\,dB_t\\\\\n",
    "Y_T = \\sin(T+X_T)\n",
    "\\end{cases}\n",
    "$\n",
    "\n",
    "the time horizon is taken as $T=0.1$. The closed-form solution to this FBSDE is\n",
    "\n",
    "$\n",
    "\\begin{cases}\n",
    "Y(t,X_t) = \\sin(t+X_t)\\\\\n",
    "Z(t,X_t) = \\cos^2(t+X_t)\n",
    "\\end{cases}\n",
    "$"
   ]
  },
  {
   "cell_type": "code",
   "execution_count": 45,
   "id": "5e4ab012",
   "metadata": {},
   "outputs": [],
   "source": [
    "# Drift coeff of FSDE\n",
    "def b(t,x,y,z):\n",
    "    return -0.5 * torch.sin(t + x) * torch.cos(t + x) * (y ** 2 + z)\n",
    "\n",
    "# Diffusion coeff of FSDE\n",
    "def sigma(t,x,y,z):\n",
    "    return 0.5 * torch.cos(t + x) * (y * torch.sin(t + x) + z + 1)\n",
    "\n",
    "# Driver of BSDE\n",
    "def f(t,x,y,z):\n",
    "    return y * z - torch.cos(t + x)\n",
    "\n",
    "# Terminal condition of BSDE\n",
    "def g(T,x):\n",
    "    return torch.sin(T + x)"
   ]
  },
  {
   "cell_type": "markdown",
   "id": "1107aa2f",
   "metadata": {},
   "source": [
    "### Build up neural networks and set up optimizer\n",
    "\n",
    "Here I am using the Adam optimizer, which makes the NNs in this example converge must faster than SGD, but in the original paper, gradient descent is used."
   ]
  },
  {
   "cell_type": "code",
   "execution_count": 46,
   "id": "0489052b",
   "metadata": {},
   "outputs": [],
   "source": [
    "# Set up NN\n",
    "class Model(nn.Module):\n",
    "    def __init__(self):\n",
    "        super().__init__()\n",
    "        # 4-layer NN, 2-dim input layer, 2 hidden layers with 12-dim and 1 output layer with 1-dim\n",
    "        self.net = nn.Sequential(\n",
    "            nn.Linear(2,12),\n",
    "            nn.Sigmoid(),\n",
    "            nn.Linear(12,12),\n",
    "            nn.Sigmoid(),\n",
    "            nn.Linear(12,12),\n",
    "            nn.Sigmoid(),\n",
    "            nn.Linear(12,1)\n",
    "        )\n",
    "    def forward(self,x):\n",
    "        return self.net(x)\n",
    "    \n",
    "# Assign initial values, Y_init considered parameter so we need to track its gradient\n",
    "Y_init = torch.tensor(0.0)\n",
    "Y_init.requires_grad = True\n",
    "X_init = torch.tensor(x0)\n",
    "\n",
    "# Create a list of NN\n",
    "NN_list = list()\n",
    "param_list = list()\n",
    "for ind in range(N - 1):\n",
    "    NN = Model()\n",
    "    NN_list.append(NN)\n",
    "    param_list = param_list + list(NN.parameters())\n",
    "\n",
    "# Add Y_init as parameter\n",
    "param_list = param_list + [Y_init]\n",
    "\n",
    "# Set up the optimizer (Adam, can also replace with SGD)\n",
    "opt = torch.optim.Adam(param_list,lr = eta)"
   ]
  },
  {
   "cell_type": "markdown",
   "id": "f26ebb14",
   "metadata": {},
   "source": [
    "### Training Loop"
   ]
  },
  {
   "cell_type": "markdown",
   "id": "14572a20",
   "metadata": {},
   "source": [
    "Recall that in algorithm 1, we guess $Y_0$ at the beginning. For each trajectory, first approximate $Z_{t_i}$ based on $X_{t_i},Y_{t_i}$ and then apply Euler scheme to approximate $X_{t_{i+1}},Y_{t_{i+1}}$. Do this iteratively to build up the approximated trajectory of three processes $X_t,Y_t,Z_t$."
   ]
  },
  {
   "cell_type": "code",
   "execution_count": 47,
   "id": "6e5406c9",
   "metadata": {},
   "outputs": [
    {
     "name": "stdout",
     "output_type": "stream",
     "text": [
      "Iter: 0, Loss: tensor(0.3633, dtype=torch.float64)\n",
      "Iter: 100, Loss: tensor(0.0632, dtype=torch.float64)\n",
      "Iter: 200, Loss: tensor(0.0129, dtype=torch.float64)\n",
      "Iter: 300, Loss: tensor(0.0043, dtype=torch.float64)\n",
      "Iter: 400, Loss: tensor(0.0019, dtype=torch.float64)\n",
      "Iter: 500, Loss: tensor(0.0010, dtype=torch.float64)\n",
      "Iter: 600, Loss: tensor(0.0006, dtype=torch.float64)\n",
      "Iter: 700, Loss: tensor(0.0005, dtype=torch.float64)\n",
      "Iter: 800, Loss: tensor(0.0004, dtype=torch.float64)\n",
      "Iter: 900, Loss: tensor(0.0003, dtype=torch.float64)\n",
      "Iter: 1000, Loss: tensor(0.0003, dtype=torch.float64)\n",
      "Iter: 1100, Loss: tensor(0.0002, dtype=torch.float64)\n",
      "Iter: 1200, Loss: tensor(0.0002, dtype=torch.float64)\n",
      "Iter: 1300, Loss: tensor(0.0002, dtype=torch.float64)\n",
      "Iter: 1400, Loss: tensor(0.0002, dtype=torch.float64)\n",
      "Iter: 1500, Loss: tensor(0.0002, dtype=torch.float64)\n",
      "Iter: 1600, Loss: tensor(0.0001, dtype=torch.float64)\n",
      "Iter: 1700, Loss: tensor(0.0001, dtype=torch.float64)\n",
      "Iter: 1800, Loss: tensor(0.0001, dtype=torch.float64)\n",
      "Iter: 1900, Loss: tensor(0.0001, dtype=torch.float64)\n",
      "Iter: 2000, Loss: tensor(0.0001, dtype=torch.float64)\n",
      "Iter: 2100, Loss: tensor(9.1585e-05, dtype=torch.float64)\n",
      "Iter: 2200, Loss: tensor(7.2024e-05, dtype=torch.float64)\n",
      "Iter: 2300, Loss: tensor(6.3252e-05, dtype=torch.float64)\n",
      "Iter: 2400, Loss: tensor(6.5801e-05, dtype=torch.float64)\n"
     ]
    }
   ],
   "source": [
    "# Loss history\n",
    "loss_history = list()\n",
    "# Y_init history\n",
    "Y_init_history = list()\n",
    "\n",
    "# Record X and Y, length equal to batch size\n",
    "X_hat = torch.empty(M,dtype = torch.float32)\n",
    "Y_hat = torch.empty(M,dtype = torch.float32)\n",
    "next_X_hat = torch.empty(M,dtype = torch.float32)\n",
    "next_Y_hat = torch.empty(M,dtype = torch.float32)\n",
    "\n",
    "# Iteration count\n",
    "for k in range(max_step):\n",
    "    # Do M times of simulations to approximate the loss function by Monte Carlo, use a batch of size M in practice\n",
    "    # so we don't need to run the NN for a lot of times repeatedly\n",
    "    \n",
    "    # Assign initial values\n",
    "    X_hat = X_init * torch.ones(M)\n",
    "    Y_hat = Y_init * torch.ones(M)\n",
    "    \n",
    "    # At the i-th time point\n",
    "    for i in range(N - 1):\n",
    "        # Predict Z by NN, prepare input of NN\n",
    "        # First unsqueeze to turn 1-d tensor into 2-d\n",
    "        unsq_X_hat = torch.unsqueeze(X_hat,1)\n",
    "        unsq_Y_hat = torch.unsqueeze(Y_hat,1)\n",
    "        \n",
    "        # Concatenate to construct the input of NN\n",
    "        XY_hat = torch.cat((unsq_X_hat,unsq_Y_hat),1)\n",
    "        XY_hat = XY_hat.to(dtype = torch.float32) # Change the dtype       \n",
    "        \n",
    "        # Forward Propagation of NN\n",
    "        Z_hat = NN_list[i](XY_hat)\n",
    "        \n",
    "        # Squeeze the output from 2-d tensor into 1-d\n",
    "        sq_Z_hat = torch.squeeze(Z_hat)\n",
    "        \n",
    "        # The time now\n",
    "        t = dt * i\n",
    "        \n",
    "        # Simulate X_hat\n",
    "        next_X_hat = X_hat + b(t,X_hat,Y_hat,sq_Z_hat) * dt + sigma(t,X_hat,Y_hat,sq_Z_hat) * Delta_BM[:,i]\n",
    "        \n",
    "        # Simulate Y_hat\n",
    "        next_Y_hat = Y_hat - f(t,X_hat,Y_hat,sq_Z_hat) * dt + sq_Z_hat * Delta_BM[:,i]\n",
    "        \n",
    "        # Update X_hat,Y_hat\n",
    "        X_hat = next_X_hat\n",
    "        Y_hat = next_Y_hat\n",
    "        \n",
    "        # Note: we CANNOT organize X_hat as a tensor with dimension max_step * M * N and record all simulation results\n",
    "        # of X in the same tensor (although in disjoint regions). This is because Pytorch takes this as \"in-place\"\n",
    "        # The definition of \"in-place\" operations: an operation that changes directly the content of a given Tensor \n",
    "        # without making a copy.\n",
    "        # operation and this results in failures in tracking the gradient. Some other examples of \"in-place\" operations\n",
    "        # are like \"+=\", \"*=\", however, \"X = X + 1\" is not considered \"in-place\".\n",
    "        # Be careful with this point and always use \"X_hat\", \"next_X_hat\" scheme when training the NN.\n",
    "            \n",
    "    # Compute loss\n",
    "    loss = torch.sum((Y_hat - g(T,X_hat)) ** 2) / (2 * M)\n",
    "    \n",
    "    # Print loss every 100 iterrations\n",
    "    if k % 100 == 0:\n",
    "        print('Iter: ' + str(k) + ', Loss: ' + str(loss.detach()))\n",
    "        \n",
    "    # Record loss and Y_init for plotting\n",
    "    # Note: we shall clone after detaching to make deep copies\n",
    "    loss_history.append(loss.detach().clone())\n",
    "    Y_init_history.append(Y_init.detach().clone())\n",
    "    \n",
    "    # Back propagation\n",
    "    opt.zero_grad()\n",
    "    loss.backward()\n",
    "    \n",
    "    # Update NN parameters and Y_init\n",
    "    opt.step()"
   ]
  },
  {
   "cell_type": "markdown",
   "id": "67cf1584",
   "metadata": {},
   "source": [
    "### Plot loss and error in $Y_0$"
   ]
  },
  {
   "cell_type": "code",
   "execution_count": 48,
   "id": "9d1d630f",
   "metadata": {
    "scrolled": false
   },
   "outputs": [
    {
     "data": {
      "text/plain": [
       "Text(0, 0.5, 'Loss')"
      ]
     },
     "execution_count": 48,
     "metadata": {},
     "output_type": "execute_result"
    },
    {
     "data": {
      "image/png": "[encoded data removed]",
      "text/plain": [
       "<Figure size 432x288 with 1 Axes>"
      ]
     },
     "metadata": {
      "needs_background": "light"
     },
     "output_type": "display_data"
    }
   ],
   "source": [
    "# Plot loss\n",
    "plt.plot(range(max_step),loss_history)\n",
    "plt.title('Change of Loss w.r.t. Iteration Number')\n",
    "plt.xlabel('Iteration Number')\n",
    "plt.ylabel('Loss')"
   ]
  },
  {
   "cell_type": "code",
   "execution_count": 49,
   "id": "1a845ff4",
   "metadata": {},
   "outputs": [
    {
     "data": {
      "text/plain": [
       "Text(0, 0.5, 'Relative Error of $Y_0$')"
      ]
     },
     "execution_count": 49,
     "metadata": {},
     "output_type": "execute_result"
    },
    {
     "data": {
      "image/png": "[encoded data removed]",
      "text/plain": [
       "<Figure size 432x288 with 1 Axes>"
      ]
     },
     "metadata": {
      "needs_background": "light"
     },
     "output_type": "display_data"
    }
   ],
   "source": [
    "# Plot relative error in Y_0\n",
    "true_Y_init = np.sin(1) # True Y_0 shall be sin(1+0) = sin(1)\n",
    "plt.plot(range(max_step),(np.array(Y_init_history) - true_Y_init) / true_Y_init)\n",
    "plt.title('Relative Error in the Approximation of $Y_0$')\n",
    "plt.xlabel('Iteration Number')\n",
    "plt.ylabel('Relative Error of $Y_0$')"
   ]
  },
  {
   "cell_type": "markdown",
   "id": "89fa868c",
   "metadata": {},
   "source": [
    "### Test the result with a fixed Brownian Motion trajectory"
   ]
  },
  {
   "cell_type": "code",
   "execution_count": 50,
   "id": "a146c18c",
   "metadata": {},
   "outputs": [],
   "source": [
    "# Fix one BM trajectory to create Xt,Yt,Zt, comparing to the true solution\n",
    "Test_Delta_BM = torch.tensor(np.random.normal(0,np.sqrt(dt),size = N))\n",
    "\n",
    "# Trajectory of three processes\n",
    "Test_X = torch.empty(N,dtype = torch.float32)\n",
    "Test_Y = torch.empty(N,dtype = torch.float32)\n",
    "Test_Z = torch.empty(N,dtype = torch.float32)\n",
    "\n",
    "# Assign initial values to X,Y\n",
    "Test_X[0] = x0\n",
    "Test_Y[0] = Y_init.detach().clone()\n",
    "\n",
    "# Do simulations\n",
    "for i in range(N - 1):\n",
    "    # Prepare input for the NN\n",
    "    unsq_Test_X = torch.unsqueeze(Test_X[0:1],1)\n",
    "    unsq_Test_Y = torch.unsqueeze(Test_Y[0:1],1)\n",
    "        \n",
    "    # Concatenate to construct the input of NN\n",
    "    XY_hat = torch.cat((unsq_Test_X,unsq_Test_Y),1)\n",
    "    XY_hat = XY_hat.to(dtype = torch.float32)      \n",
    "\n",
    "    # Forward Propagation, do not need to record gradient any longer\n",
    "    with torch.no_grad():\n",
    "        Test_Z_val = NN_list[i](XY_hat)\n",
    "    sq_Test_Z_val = torch.squeeze(Test_Z_val)\n",
    "    Test_Z[i] = sq_Test_Z_val\n",
    "        \n",
    "    # The time now\n",
    "    t = dt * i\n",
    "        \n",
    "    # Simulate X_hat\n",
    "    Test_X[i + 1] = Test_X[i] + b(t,Test_X[i],Test_Y[i],sq_Test_Z_val) * dt \n",
    "    + sigma(t,Test_X[i],Test_X[i],sq_Test_Z_val) * Test_Delta_BM[i]\n",
    "        \n",
    "    # Simulate Y_hat\n",
    "    Test_Y[i + 1] = Test_Y[i] - f(t,Test_X[i],Test_Y[i],sq_Test_Z_val) * dt + sq_Test_Z_val * Test_Delta_BM[i]"
   ]
  },
  {
   "cell_type": "markdown",
   "id": "9d0eb157",
   "metadata": {},
   "source": [
    "### Plot the simulated version of $X_t$,$Y_t,Z_t$, compare with the closed-form solution"
   ]
  },
  {
   "cell_type": "code",
   "execution_count": 51,
   "id": "27219721",
   "metadata": {},
   "outputs": [
    {
     "data": {
      "text/plain": [
       "<matplotlib.legend.Legend at 0x15f0b46d0>"
      ]
     },
     "execution_count": 51,
     "metadata": {},
     "output_type": "execute_result"
    },
    {
     "data": {
      "image/png": "[encoded data removed]",
      "text/plain": [
       "<Figure size 864x576 with 1 Axes>"
      ]
     },
     "metadata": {
      "needs_background": "light"
     },
     "output_type": "display_data"
    }
   ],
   "source": [
    "# Make a larger plot\n",
    "plt.figure(figsize=(12,8))\n",
    "\n",
    "# X-axis as time\n",
    "plot_x = dt * np.array(range(N))\n",
    "\n",
    "# Plot Xt\n",
    "plt.plot(plot_x,Test_X.detach(),label = '$X_t$',color = 'black')\n",
    "\n",
    "# Plot Yt approximated\n",
    "plt.plot(plot_x,Test_Y.detach(),label = '$\\hat{Y}_t$',color = 'orange')\n",
    "\n",
    "# Plot Zt approximated\n",
    "# Note that we do not plot Z_t at time T since X_T,Y_T have never been put into NN\n",
    "# in the training scheme (if we also plot Z_T we will find that it explodes)!\n",
    "plt.plot(plot_x[:-1],Test_Z.detach()[:-1],label = '$\\hat{Z}_t$',color = 'blue')\n",
    "\n",
    "# Plot true Yt, Y_t = sin(t+Xt)\n",
    "true_Y = torch.sin(torch.linspace(0,T,N) + Test_X)\n",
    "plt.plot(plot_x,true_Y.detach(),label = '$Y_t$',color = 'red')\n",
    "\n",
    "# Plot true Zt, Z_t = cos^2(t+Xt)\n",
    "true_Z = (torch.cos(torch.linspace(0,T,N) + Test_X)) ** 2\n",
    "plt.plot(plot_x,true_Z.detach(),label = '$Z_t$',color = 'purple')\n",
    "\n",
    "# Legends\n",
    "plt.title('Trajectory of True Solution and Approximated Solution')\n",
    "plt.xlabel('Time')\n",
    "plt.ylabel('Value of the Realization of Processes')\n",
    "plt.legend()"
   ]
  },
  {
   "cell_type": "markdown",
   "id": "5f58e63b",
   "metadata": {},
   "source": [
    "## About in-place operation"
   ]
  },
  {
   "cell_type": "markdown",
   "id": "e2b164c9",
   "metadata": {},
   "source": [
    "### Create a tensor that requires gradient, let's calculate the derivative of $f(x)=x^x$ at $x=1$"
   ]
  },
  {
   "cell_type": "code",
   "execution_count": 52,
   "id": "4d0e3966",
   "metadata": {},
   "outputs": [],
   "source": [
    "A = torch.tensor(1.0)\n",
    "A.requires_grad = True"
   ]
  },
  {
   "cell_type": "markdown",
   "id": "818fcbca",
   "metadata": {},
   "source": [
    "### Use in-place operation '**=' to see what will happen"
   ]
  },
  {
   "cell_type": "code",
   "execution_count": 53,
   "id": "ed0c3be9",
   "metadata": {},
   "outputs": [
    {
     "ename": "RuntimeError",
     "evalue": "a leaf Variable that requires grad is being used in an in-place operation.",
     "output_type": "error",
     "traceback": [
      "\u001b[0;31m---------------------------------------------------------------------------\u001b[0m",
      "\u001b[0;31mRuntimeError\u001b[0m                              Traceback (most recent call last)",
      "Input \u001b[0;32mIn [53]\u001b[0m, in \u001b[0;36m<cell line: 4>\u001b[0;34m()\u001b[0m\n\u001b[1;32m      1\u001b[0m \u001b[38;5;66;03m# There will be error happening since we are applying in-place operations on a tensor\u001b[39;00m\n\u001b[1;32m      2\u001b[0m \u001b[38;5;66;03m# that requires gradient\u001b[39;00m\n\u001b[1;32m      3\u001b[0m B \u001b[38;5;241m=\u001b[39m A\n\u001b[0;32m----> 4\u001b[0m B \u001b[38;5;241m*\u001b[39m\u001b[38;5;241m*\u001b[39m\u001b[38;5;241m=\u001b[39m B\n",
      "File \u001b[0;32m~/Library/Python/3.8/lib/python/site-packages/torch/_tensor.py:39\u001b[0m, in \u001b[0;36m_handle_torch_function_and_wrap_type_error_to_not_implemented.<locals>.wrapped\u001b[0;34m(*args, **kwargs)\u001b[0m\n\u001b[1;32m     37\u001b[0m     \u001b[38;5;28;01mif\u001b[39;00m has_torch_function(args):\n\u001b[1;32m     38\u001b[0m         \u001b[38;5;28;01mreturn\u001b[39;00m handle_torch_function(wrapped, args, \u001b[38;5;241m*\u001b[39margs, \u001b[38;5;241m*\u001b[39m\u001b[38;5;241m*\u001b[39mkwargs)\n\u001b[0;32m---> 39\u001b[0m     \u001b[38;5;28;01mreturn\u001b[39;00m \u001b[43mf\u001b[49m\u001b[43m(\u001b[49m\u001b[38;5;241;43m*\u001b[39;49m\u001b[43margs\u001b[49m\u001b[43m,\u001b[49m\u001b[43m \u001b[49m\u001b[38;5;241;43m*\u001b[39;49m\u001b[38;5;241;43m*\u001b[39;49m\u001b[43mkwargs\u001b[49m\u001b[43m)\u001b[49m\n\u001b[1;32m     40\u001b[0m \u001b[38;5;28;01mexcept\u001b[39;00m \u001b[38;5;167;01mTypeError\u001b[39;00m:\n\u001b[1;32m     41\u001b[0m     \u001b[38;5;28;01mreturn\u001b[39;00m \u001b[38;5;28mNotImplemented\u001b[39m\n",
      "\u001b[0;31mRuntimeError\u001b[0m: a leaf Variable that requires grad is being used in an in-place operation."
     ]
    }
   ],
   "source": [
    "# There will be error happening since we are applying in-place operations on a tensor\n",
    "# that requires gradient\n",
    "B = A\n",
    "B **= B"
   ]
  },
  {
   "cell_type": "markdown",
   "id": "72bee660",
   "metadata": {},
   "source": [
    "### Use the non-in-place version to see what will happen "
   ]
  },
  {
   "cell_type": "code",
   "execution_count": 54,
   "id": "6bec7bf3",
   "metadata": {},
   "outputs": [
    {
     "data": {
      "text/plain": [
       "(tensor(1.),)"
      ]
     },
     "execution_count": 54,
     "metadata": {},
     "output_type": "execute_result"
    }
   ],
   "source": [
    "# This operation can be done now and the correct gradient f'(1)\n",
    "B = B ** B\n",
    "torch.autograd.grad(B,A)"
   ]
  },
  {
   "cell_type": "markdown",
   "id": "1b0bc24c",
   "metadata": {},
   "source": [
    "### Sometimes \"torch.clone()\" helps one do in-place operations, but not always!"
   ]
  },
  {
   "cell_type": "markdown",
   "id": "6293992a",
   "metadata": {},
   "source": [
    "### Let's calculate the derivative of $f(x)=2x$ at $x=1$"
   ]
  },
  {
   "cell_type": "markdown",
   "id": "793faab1",
   "metadata": {},
   "source": [
    "### Without cloning, in-place operations cause error"
   ]
  },
  {
   "cell_type": "code",
   "execution_count": 55,
   "id": "55040753",
   "metadata": {},
   "outputs": [
    {
     "ename": "RuntimeError",
     "evalue": "a leaf Variable that requires grad is being used in an in-place operation.",
     "output_type": "error",
     "traceback": [
      "\u001b[0;31m---------------------------------------------------------------------------\u001b[0m",
      "\u001b[0;31mRuntimeError\u001b[0m                              Traceback (most recent call last)",
      "Input \u001b[0;32mIn [55]\u001b[0m, in \u001b[0;36m<cell line: 3>\u001b[0;34m()\u001b[0m\n\u001b[1;32m      1\u001b[0m \u001b[38;5;66;03m# This in-place operation can be done when applying clone\u001b[39;00m\n\u001b[1;32m      2\u001b[0m B \u001b[38;5;241m=\u001b[39m A\n\u001b[0;32m----> 3\u001b[0m B \u001b[38;5;241m*\u001b[39m\u001b[38;5;241m=\u001b[39m \u001b[38;5;241m2\u001b[39m\n\u001b[1;32m      4\u001b[0m \u001b[38;5;28mprint\u001b[39m(torch\u001b[38;5;241m.\u001b[39mautograd\u001b[38;5;241m.\u001b[39mgrad(B,A))\n",
      "\u001b[0;31mRuntimeError\u001b[0m: a leaf Variable that requires grad is being used in an in-place operation."
     ]
    }
   ],
   "source": [
    "# This in-place operation can be done when applying clone\n",
    "B = A\n",
    "B *= 2\n",
    "print(torch.autograd.grad(B,A))"
   ]
  },
  {
   "cell_type": "markdown",
   "id": "6fe39930",
   "metadata": {},
   "source": [
    "### After cloning, in-place operation is allowed"
   ]
  },
  {
   "cell_type": "code",
   "execution_count": 56,
   "id": "3fac67db",
   "metadata": {},
   "outputs": [
    {
     "name": "stdout",
     "output_type": "stream",
     "text": [
      "(tensor(2.),)\n"
     ]
    }
   ],
   "source": [
    "# This in-place operation can be done when applying clone\n",
    "B = A.clone()\n",
    "B *= 2\n",
    "print(torch.autograd.grad(B,A))"
   ]
  },
  {
   "cell_type": "markdown",
   "id": "a0684469",
   "metadata": {},
   "source": [
    "### However, cloning does not help with the first example since $B$ is also appearing on the RHS of \"**=\""
   ]
  },
  {
   "cell_type": "code",
   "execution_count": 57,
   "id": "596234b4",
   "metadata": {},
   "outputs": [
    {
     "ename": "RuntimeError",
     "evalue": "one of the variables needed for gradient computation has been modified by an inplace operation: [torch.FloatTensor []], which is output 0 of PowBackward1, is at version 1; expected version 0 instead. Hint: enable anomaly detection to find the operation that failed to compute its gradient, with torch.autograd.set_detect_anomaly(True).",
     "output_type": "error",
     "traceback": [
      "\u001b[0;31m---------------------------------------------------------------------------\u001b[0m",
      "\u001b[0;31mRuntimeError\u001b[0m                              Traceback (most recent call last)",
      "Input \u001b[0;32mIn [57]\u001b[0m, in \u001b[0;36m<cell line: 4>\u001b[0;34m()\u001b[0m\n\u001b[1;32m      2\u001b[0m B \u001b[38;5;241m=\u001b[39m A\u001b[38;5;241m.\u001b[39mclone()\n\u001b[1;32m      3\u001b[0m B \u001b[38;5;241m*\u001b[39m\u001b[38;5;241m*\u001b[39m\u001b[38;5;241m=\u001b[39m B\n\u001b[0;32m----> 4\u001b[0m \u001b[38;5;28mprint\u001b[39m(\u001b[43mtorch\u001b[49m\u001b[38;5;241;43m.\u001b[39;49m\u001b[43mautograd\u001b[49m\u001b[38;5;241;43m.\u001b[39;49m\u001b[43mgrad\u001b[49m\u001b[43m(\u001b[49m\u001b[43mB\u001b[49m\u001b[43m,\u001b[49m\u001b[43mA\u001b[49m\u001b[43m)\u001b[49m)\n",
      "File \u001b[0;32m~/Library/Python/3.8/lib/python/site-packages/torch/autograd/__init__.py:300\u001b[0m, in \u001b[0;36mgrad\u001b[0;34m(outputs, inputs, grad_outputs, retain_graph, create_graph, only_inputs, allow_unused, is_grads_batched)\u001b[0m\n\u001b[1;32m    298\u001b[0m     \u001b[38;5;28;01mreturn\u001b[39;00m _vmap_internals\u001b[38;5;241m.\u001b[39m_vmap(vjp, \u001b[38;5;241m0\u001b[39m, \u001b[38;5;241m0\u001b[39m, allow_none_pass_through\u001b[38;5;241m=\u001b[39m\u001b[38;5;28;01mTrue\u001b[39;00m)(grad_outputs_)\n\u001b[1;32m    299\u001b[0m \u001b[38;5;28;01melse\u001b[39;00m:\n\u001b[0;32m--> 300\u001b[0m     \u001b[38;5;28;01mreturn\u001b[39;00m \u001b[43mVariable\u001b[49m\u001b[38;5;241;43m.\u001b[39;49m\u001b[43m_execution_engine\u001b[49m\u001b[38;5;241;43m.\u001b[39;49m\u001b[43mrun_backward\u001b[49m\u001b[43m(\u001b[49m\u001b[43m  \u001b[49m\u001b[38;5;66;43;03m# Calls into the C++ engine to run the backward pass\u001b[39;49;00m\n\u001b[1;32m    301\u001b[0m \u001b[43m        \u001b[49m\u001b[43mt_outputs\u001b[49m\u001b[43m,\u001b[49m\u001b[43m \u001b[49m\u001b[43mgrad_outputs_\u001b[49m\u001b[43m,\u001b[49m\u001b[43m \u001b[49m\u001b[43mretain_graph\u001b[49m\u001b[43m,\u001b[49m\u001b[43m \u001b[49m\u001b[43mcreate_graph\u001b[49m\u001b[43m,\u001b[49m\u001b[43m \u001b[49m\u001b[43mt_inputs\u001b[49m\u001b[43m,\u001b[49m\n\u001b[1;32m    302\u001b[0m \u001b[43m        \u001b[49m\u001b[43mallow_unused\u001b[49m\u001b[43m,\u001b[49m\u001b[43m \u001b[49m\u001b[43maccumulate_grad\u001b[49m\u001b[38;5;241;43m=\u001b[39;49m\u001b[38;5;28;43;01mFalse\u001b[39;49;00m\u001b[43m)\u001b[49m\n",
      "\u001b[0;31mRuntimeError\u001b[0m: one of the variables needed for gradient computation has been modified by an inplace operation: [torch.FloatTensor []], which is output 0 of PowBackward1, is at version 1; expected version 0 instead. Hint: enable anomaly detection to find the operation that failed to compute its gradient, with torch.autograd.set_detect_anomaly(True)."
     ]
    }
   ],
   "source": [
    "# This operation cannot be done even if we clone \n",
    "B = A.clone()\n",
    "B **= B\n",
    "print(torch.autograd.grad(B,A))"
   ]
  },
  {
   "cell_type": "markdown",
   "id": "ac870af8",
   "metadata": {},
   "source": [
    "### If one wants to record the history of tensors $X_t,Y_t,Z_t$ above, use a list of tensors instead of one high-dimensional tensor!"
   ]
  },
  {
   "cell_type": "code",
   "execution_count": null,
   "id": "51188c24",
   "metadata": {},
   "outputs": [],
   "source": []
  }
 ],
 "metadata": {
  "kernelspec": {
   "display_name": "Python 3 (ipykernel)",
   "language": "python",
   "name": "python3"
  },
  "language_info": {
   "codemirror_mode": {
    "name": "ipython",
    "version": 3
   },
   "file_extension": ".py",
   "mimetype": "text/x-python",
   "name": "python",
   "nbconvert_exporter": "python",
   "pygments_lexer": "ipython3",
   "version": "3.8.9"
  }
 },
 "nbformat": 4,
 "nbformat_minor": 5
}
