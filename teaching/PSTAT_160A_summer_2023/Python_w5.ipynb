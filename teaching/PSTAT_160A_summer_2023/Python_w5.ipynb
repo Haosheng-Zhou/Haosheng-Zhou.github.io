{
 "cells": [
  {
   "cell_type": "markdown",
   "metadata": {},
   "source": [
    "# Limiting and Stationary Distribution of Markov Chain"
   ]
  },
  {
   "cell_type": "code",
   "execution_count": 19,
   "metadata": {},
   "outputs": [],
   "source": [
    "# Import packages\n",
    "import numpy as np\n",
    "from numpy import linalg "
   ]
  },
  {
   "cell_type": "code",
   "execution_count": 20,
   "metadata": {},
   "outputs": [
    {
     "name": "stdout",
     "output_type": "stream",
     "text": [
      "[[0.8 0.2 0. ]\n",
      " [0.1 0.8 0.1]\n",
      " [0.  0.2 0.8]]\n",
      "P^2 is [[0.66 0.32 0.02]\n",
      " [0.16 0.68 0.16]\n",
      " [0.02 0.32 0.66]]\n"
     ]
    }
   ],
   "source": [
    "# Transition matrix\n",
    "P = np.array([[0.8,0.2,0],[0.1,0.8,0.1],[0,0.2,0.8]])\n",
    "print(P)\n",
    "\n",
    "# Calculate the power of P\n",
    "print(\"P^2 is\", np.linalg.matrix_power(P,2))"
   ]
  },
  {
   "cell_type": "code",
   "execution_count": 21,
   "metadata": {},
   "outputs": [
    {
     "name": "stdout",
     "output_type": "stream",
     "text": [
      "[[0.25577375 0.49998172 0.24424453]\n",
      " [0.24999086 0.50001828 0.24999086]\n",
      " [0.24424453 0.49998172 0.25577375]]\n"
     ]
    }
   ],
   "source": [
    "# P to the power 20\n",
    "print(np.linalg.matrix_power(P,20))"
   ]
  },
  {
   "cell_type": "markdown",
   "metadata": {},
   "source": [
    "Approximate $\\lim_{n\\to\\infty}P^n$ by taking $n$ to be a large enough number."
   ]
  },
  {
   "cell_type": "code",
   "execution_count": 28,
   "metadata": {},
   "outputs": [
    {
     "name": "stdout",
     "output_type": "stream",
     "text": [
      "[[0.25 0.5  0.25]\n",
      " [0.25 0.5  0.25]\n",
      " [0.25 0.5  0.25]]\n"
     ]
    }
   ],
   "source": [
    "# P to the power 200, which can approximate lim_{n\\to\\infty}P^n\n",
    "P_limit = np.linalg.matrix_power(P,200)\n",
    "print(P_limit)"
   ]
  },
  {
   "cell_type": "markdown",
   "metadata": {},
   "source": [
    "Now let's calculate the limiting distribution of this Markov chain for some given initial distributions. We will see an interesting phenomenon that no matter what initial distribution we take, the limiting distribution of the Markov chain is always the same."
   ]
  },
  {
   "cell_type": "code",
   "execution_count": 31,
   "metadata": {},
   "outputs": [
    {
     "name": "stdout",
     "output_type": "stream",
     "text": [
      "When such initial distribution is taken, the distribution of $X_1$ is:\n",
      "[0.8 0.2 0. ]\n",
      "The limiting distribution is:\n",
      "[0.25 0.5  0.25]\n"
     ]
    }
   ],
   "source": [
    "# alpha1 as initial distribution\n",
    "alpha_1 = np.array([1.0,0.0,0.0])\n",
    "lim_dist_1 = alpha_1 @ P_limit # operator @ for matrix product\n",
    "print('When such initial distribution is taken, the distribution of $X_1$ is:')\n",
    "print(alpha_1 @ P)\n",
    "print('The limiting distribution is:')\n",
    "print(lim_dist_1)"
   ]
  },
  {
   "cell_type": "code",
   "execution_count": 32,
   "metadata": {},
   "outputs": [
    {
     "name": "stdout",
     "output_type": "stream",
     "text": [
      "When such initial distribution is taken, the distribution of $X_1$ is:\n",
      "[0.26 0.32 0.42]\n",
      "The limiting distribution is:\n",
      "[0.25 0.5  0.25]\n"
     ]
    }
   ],
   "source": [
    "# alpha2 as initial distribution and its limiting distribution lim_dist_1\n",
    "alpha_2 = np.array([0.3,0.2,0.5])\n",
    "lim_dist_2 = alpha_2 @ P_limit # operator @ for matrix product\n",
    "print('When such initial distribution is taken, the distribution of $X_1$ is:')\n",
    "print(alpha_2 @ P)\n",
    "print('The limiting distribution is:')\n",
    "print(lim_dist_2)"
   ]
  },
  {
   "cell_type": "code",
   "execution_count": 33,
   "metadata": {},
   "outputs": [
    {
     "name": "stdout",
     "output_type": "stream",
     "text": [
      "When such initial distribution is taken, the distribution of $X_1$ is:\n",
      "[0.56  0.344 0.096]\n",
      "The limiting distribution is:\n",
      "[0.25 0.5  0.25]\n"
     ]
    }
   ],
   "source": [
    "# alpha3 as initial distribution and its limiting distribution lim_dist_1\n",
    "alpha_3 = np.array([0.67,0.24,0.09])\n",
    "lim_dist_3 = alpha_3 @ P_limit # operator @ for matrix product\n",
    "print('When such initial distribution is taken, the distribution of $X_1$ is:')\n",
    "print(alpha_3 @ P)\n",
    "print('The limiting distribution is:')\n",
    "print(lim_dist_3)"
   ]
  },
  {
   "cell_type": "markdown",
   "metadata": {},
   "source": [
    "It seems magical that no matter what initial distribution we take for this Markov chain, it always converges to the same limiting distribution $\\pi^T = [0.25,0.5,0.25]$. We show in the following context that such $\\pi^T$ is actually the stationary distribution of the Markov chain."
   ]
  },
  {
   "cell_type": "markdown",
   "metadata": {},
   "source": [
    "To calculate stationary distribution numerically, let's adopt the eigenvector interpretation of stationary distribution that it's the eigenvector of $P^T$ corresponding to eigenvalue $1$."
   ]
  },
  {
   "cell_type": "code",
   "execution_count": 12,
   "metadata": {},
   "outputs": [
    {
     "data": {
      "text/plain": [
       "array([[ 4.08248290e-01,  7.07106781e-01,  4.08248290e-01],\n",
       "       [-8.16496581e-01, -2.01786028e-15,  8.16496581e-01],\n",
       "       [ 4.08248290e-01, -7.07106781e-01,  4.08248290e-01]])"
      ]
     },
     "execution_count": 12,
     "metadata": {},
     "output_type": "execute_result"
    }
   ],
   "source": [
    "# Get eigen-decomposition of P^T\n",
    "[eigenval,eigenvect] = linalg.eig(np.transpose(P))\n",
    "eigenvect"
   ]
  },
  {
   "cell_type": "code",
   "execution_count": 13,
   "metadata": {},
   "outputs": [
    {
     "data": {
      "text/plain": [
       "array([0.6, 0.8, 1. ])"
      ]
     },
     "execution_count": 13,
     "metadata": {},
     "output_type": "execute_result"
    }
   ],
   "source": [
    "eigenval"
   ]
  },
  {
   "cell_type": "markdown",
   "metadata": {},
   "source": [
    "Eigenvectors are the **columns** of eigenvect. The returned columns are not normalized, so once we figure which column we want (which is the one where eigenval = 1), we must normalize it."
   ]
  },
  {
   "cell_type": "code",
   "execution_count": 35,
   "metadata": {},
   "outputs": [
    {
     "name": "stdout",
     "output_type": "stream",
     "text": [
      "[0.25 0.5  0.25]\n"
     ]
    }
   ],
   "source": [
    "# Take the eigenvector corresponding to eigenvalue 1 and normalize it such that all its components sum up to 1\n",
    "stat_dist = eigenvect[:,2] / np.sum(eigenvect[:,2])\n",
    "print(stat_dist)"
   ]
  },
  {
   "cell_type": "markdown",
   "metadata": {},
   "source": [
    "We find that the limiting distribution coincides with the stationary distribution! This is a numerical verification of the theorem of the convergence of Markov chain, saying that if $\\left\\{X_n\\right\\}$ is an irreducible recurrent aperiodic Markov chain, then it has a unique stationary distribution $\\pi$ and $X_n\\overset{d}{\\to}\\pi\\ (n\\to\\infty)$ (which we will learn in the following week, skip it if you don't understand for now).\n",
    "\n",
    "Notice that the irreducibility, recurrence and aperiodicity conditions cannot be reduced. To see this, let's calculate the limiting distribution and stationary distribution for a different Markov chain as a counterexample."
   ]
  },
  {
   "cell_type": "code",
   "execution_count": 36,
   "metadata": {},
   "outputs": [
    {
     "name": "stdout",
     "output_type": "stream",
     "text": [
      "[[0. 1.]\n",
      " [1. 0.]]\n"
     ]
    }
   ],
   "source": [
    "# Now we have a two-state Markov chain with the following transition matrix\n",
    "P = np.array([[0.0,1.0],[1.0,0.0]])\n",
    "print(P)"
   ]
  },
  {
   "cell_type": "code",
   "execution_count": 40,
   "metadata": {},
   "outputs": [
    {
     "name": "stdout",
     "output_type": "stream",
     "text": [
      "[[1. 0.]\n",
      " [0. 1.]]\n",
      "[[0. 1.]\n",
      " [1. 0.]]\n"
     ]
    }
   ],
   "source": [
    "# Get the limit of such P, be careful that the limit actually does not exist here!\n",
    "P_lim_1 = np.linalg.matrix_power(P,200)\n",
    "P_lim_2 = np.linalg.matrix_power(P,201)\n",
    "print(P_lim_1)\n",
    "print(P_lim_2)"
   ]
  },
  {
   "cell_type": "markdown",
   "metadata": {},
   "source": [
    "$P^n$ always alternates between those two matrices, so there's no limit for $P^n$! As a result, the limiting distribution does not exist for general initial distribution. However, the stationary distribution exists."
   ]
  },
  {
   "cell_type": "code",
   "execution_count": 42,
   "metadata": {},
   "outputs": [
    {
     "data": {
      "text/plain": [
       "array([ 1., -1.])"
      ]
     },
     "execution_count": 42,
     "metadata": {},
     "output_type": "execute_result"
    }
   ],
   "source": [
    "# Get eigen-decomposition of P^T\n",
    "[eigenval,eigenvect] = linalg.eig(np.transpose(P))\n",
    "eigenval"
   ]
  },
  {
   "cell_type": "code",
   "execution_count": 43,
   "metadata": {},
   "outputs": [
    {
     "name": "stdout",
     "output_type": "stream",
     "text": [
      "[0.5 0.5]\n"
     ]
    }
   ],
   "source": [
    "# Take the eigenvector corresponding to eigenvalue 1 and normalize it such that all its components sum up to 1\n",
    "stat_dist = eigenvect[:,0] / np.sum(eigenvect[:,0])\n",
    "print(stat_dist)"
   ]
  },
  {
   "cell_type": "markdown",
   "metadata": {},
   "source": [
    "This is a famous counterexample where the stationary distribution exists but the limiting distribution does not exist. The reason of the failure of the convergence theorem is that this Markov chain violates the aperiodic condition, in that it has period $2$ (alternates between different states). That's why we have to dintinguish limiting distribution and stationary distribution as two different concepts with connections."
   ]
  },
  {
   "cell_type": "code",
   "execution_count": null,
   "metadata": {},
   "outputs": [],
   "source": []
  }
 ],
 "metadata": {
  "kernelspec": {
   "display_name": "Python 3 (ipykernel)",
   "language": "python",
   "name": "python3"
  },
  "language_info": {
   "codemirror_mode": {
    "name": "ipython",
    "version": 3
   },
   "file_extension": ".py",
   "mimetype": "text/x-python",
   "name": "python",
   "nbconvert_exporter": "python",
   "pygments_lexer": "ipython3",
   "version": "3.11.4"
  }
 },
 "nbformat": 4,
 "nbformat_minor": 2
}
